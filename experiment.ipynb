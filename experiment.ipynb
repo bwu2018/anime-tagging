{
 "cells": [
  {
   "cell_type": "code",
   "execution_count": 1,
   "metadata": {},
   "outputs": [],
   "source": [
    "import pandas as pd"
   ]
  },
  {
   "cell_type": "code",
   "execution_count": 9,
   "metadata": {},
   "outputs": [
    {
     "data": {
      "text/html": [
       "<div>\n",
       "<style scoped>\n",
       "    .dataframe tbody tr th:only-of-type {\n",
       "        vertical-align: middle;\n",
       "    }\n",
       "\n",
       "    .dataframe tbody tr th {\n",
       "        vertical-align: top;\n",
       "    }\n",
       "\n",
       "    .dataframe thead th {\n",
       "        text-align: right;\n",
       "    }\n",
       "</style>\n",
       "<table border=\"1\" class=\"dataframe\">\n",
       "  <thead>\n",
       "    <tr style=\"text-align: right;\">\n",
       "      <th></th>\n",
       "      <th>id</th>\n",
       "      <th>created_at</th>\n",
       "      <th>rating</th>\n",
       "      <th>score</th>\n",
       "      <th>sample_url</th>\n",
       "      <th>sample_width</th>\n",
       "      <th>sample_height</th>\n",
       "      <th>preview_url</th>\n",
       "      <th>tags</th>\n",
       "    </tr>\n",
       "  </thead>\n",
       "  <tbody>\n",
       "    <tr>\n",
       "      <th>0</th>\n",
       "      <td>1</td>\n",
       "      <td>1264803292</td>\n",
       "      <td>s</td>\n",
       "      <td>37</td>\n",
       "      <td>//safebooru.org/samples/1/sample_e7b3dc281d431...</td>\n",
       "      <td>850</td>\n",
       "      <td>638</td>\n",
       "      <td>//safebooru.org/thumbnails/1/thumbnail_e7b3dc2...</td>\n",
       "      <td>1girl bag black_hair blush bob_cut bowieknife ...</td>\n",
       "    </tr>\n",
       "    <tr>\n",
       "      <th>1</th>\n",
       "      <td>2</td>\n",
       "      <td>1264803292</td>\n",
       "      <td>s</td>\n",
       "      <td>12</td>\n",
       "      <td>//safebooru.org/samples/1/sample_27ff11b17a2c3...</td>\n",
       "      <td>850</td>\n",
       "      <td>1208</td>\n",
       "      <td>//safebooru.org/thumbnails/1/thumbnail_27ff11b...</td>\n",
       "      <td>barding black cape celty_sturluson dress dulla...</td>\n",
       "    </tr>\n",
       "    <tr>\n",
       "      <th>2</th>\n",
       "      <td>3</td>\n",
       "      <td>1264803298</td>\n",
       "      <td>s</td>\n",
       "      <td>8</td>\n",
       "      <td>//safebooru.org/samples/1/sample_ebd16eb1d1547...</td>\n",
       "      <td>850</td>\n",
       "      <td>599</td>\n",
       "      <td>//safebooru.org/thumbnails/1/thumbnail_ebd16eb...</td>\n",
       "      <td>blue_eyes blush brown_hair original scan takoy...</td>\n",
       "    </tr>\n",
       "    <tr>\n",
       "      <th>3</th>\n",
       "      <td>4</td>\n",
       "      <td>1264803299</td>\n",
       "      <td>s</td>\n",
       "      <td>5</td>\n",
       "      <td>//safebooru.org/samples/1/sample_6fbb9a4b9099e...</td>\n",
       "      <td>850</td>\n",
       "      <td>519</td>\n",
       "      <td>//safebooru.org/thumbnails/1/thumbnail_6fbb9a4...</td>\n",
       "      <td>game_cg hagall_valkyr mecha_musume shirogane_n...</td>\n",
       "    </tr>\n",
       "    <tr>\n",
       "      <th>4</th>\n",
       "      <td>6</td>\n",
       "      <td>1264803304</td>\n",
       "      <td>s</td>\n",
       "      <td>11</td>\n",
       "      <td>//safebooru.org/samples/1/sample_113cb63dc5412...</td>\n",
       "      <td>850</td>\n",
       "      <td>601</td>\n",
       "      <td>//safebooru.org/thumbnails/1/thumbnail_113cb63...</td>\n",
       "      <td>blush idolmaster kisaragi_chihaya komi_zumiko ...</td>\n",
       "    </tr>\n",
       "  </tbody>\n",
       "</table>\n",
       "</div>"
      ],
      "text/plain": [
       "   id  created_at rating  score  \\\n",
       "0   1  1264803292      s     37   \n",
       "1   2  1264803292      s     12   \n",
       "2   3  1264803298      s      8   \n",
       "3   4  1264803299      s      5   \n",
       "4   6  1264803304      s     11   \n",
       "\n",
       "                                          sample_url  sample_width  \\\n",
       "0  //safebooru.org/samples/1/sample_e7b3dc281d431...           850   \n",
       "1  //safebooru.org/samples/1/sample_27ff11b17a2c3...           850   \n",
       "2  //safebooru.org/samples/1/sample_ebd16eb1d1547...           850   \n",
       "3  //safebooru.org/samples/1/sample_6fbb9a4b9099e...           850   \n",
       "4  //safebooru.org/samples/1/sample_113cb63dc5412...           850   \n",
       "\n",
       "   sample_height                                        preview_url  \\\n",
       "0            638  //safebooru.org/thumbnails/1/thumbnail_e7b3dc2...   \n",
       "1           1208  //safebooru.org/thumbnails/1/thumbnail_27ff11b...   \n",
       "2            599  //safebooru.org/thumbnails/1/thumbnail_ebd16eb...   \n",
       "3            519  //safebooru.org/thumbnails/1/thumbnail_6fbb9a4...   \n",
       "4            601  //safebooru.org/thumbnails/1/thumbnail_113cb63...   \n",
       "\n",
       "                                                tags  \n",
       "0  1girl bag black_hair blush bob_cut bowieknife ...  \n",
       "1  barding black cape celty_sturluson dress dulla...  \n",
       "2  blue_eyes blush brown_hair original scan takoy...  \n",
       "3  game_cg hagall_valkyr mecha_musume shirogane_n...  \n",
       "4  blush idolmaster kisaragi_chihaya komi_zumiko ...  "
      ]
     },
     "execution_count": 9,
     "metadata": {},
     "output_type": "execute_result"
    }
   ],
   "source": [
    "df = pd.read_csv(\"all_data.csv\")\n",
    "df.head()"
   ]
  },
  {
   "cell_type": "code",
   "execution_count": 8,
   "metadata": {},
   "outputs": [
    {
     "data": {
      "text/plain": [
       "0          [1girl, bag, black_hair, blush, bob_cut, bowie...\n",
       "1          [barding, black, cape, celty_sturluson, dress,...\n",
       "2          [blue_eyes, blush, brown_hair, original, scan,...\n",
       "3          [game_cg, hagall_valkyr, mecha_musume, shiroga...\n",
       "4          [blush, idolmaster, kisaragi_chihaya, komi_zum...\n",
       "                                 ...                        \n",
       "3020455    [1girl, absurdres, bangs, black_bodysuit, blac...\n",
       "3020456    [2girls, absurdres, black_hair, blood, blood_o...\n",
       "3020457    [2girls, :d, anz32, bangs, black_bow, black_ha...\n",
       "3020458    [2boys, baseball_cap, black_hair, black_shirt,...\n",
       "3020459    [1girl, absurdres, alternate_costume, armband,...\n",
       "Name: tags, Length: 3020460, dtype: object"
      ]
     },
     "execution_count": 8,
     "metadata": {},
     "output_type": "execute_result"
    }
   ],
   "source": [
    "all_tags = set()\n",
    "df[\"tags\"].head().str.split()"
   ]
  },
  {
   "cell_type": "code",
   "execution_count": 10,
   "metadata": {},
   "outputs": [
    {
     "data": {
      "text/plain": [
       "0          None\n",
       "1          None\n",
       "2          None\n",
       "3          None\n",
       "4          None\n",
       "           ... \n",
       "3020455    None\n",
       "3020456    None\n",
       "3020457    None\n",
       "3020458    None\n",
       "3020459    None\n",
       "Name: tags, Length: 3020460, dtype: object"
      ]
     },
     "execution_count": 10,
     "metadata": {},
     "output_type": "execute_result"
    }
   ],
   "source": [
    "df[\"tags\"].str.split().apply(lambda x: all_tags.update(x))"
   ]
  },
  {
   "cell_type": "code",
   "execution_count": 11,
   "metadata": {},
   "outputs": [
    {
     "name": "stdout",
     "output_type": "stream",
     "text": [
      "429984\n"
     ]
    }
   ],
   "source": [
    "print(len(all_tags))"
   ]
  },
  {
   "cell_type": "code",
   "execution_count": 13,
   "metadata": {},
   "outputs": [
    {
     "name": "stdout",
     "output_type": "stream",
     "text": [
      "['aoi_(witchblade)', 'steering_wheel', 'watergun', 'baby_on_board', 'kamonari_ahiru', 'bigott_eisenburg', 'zhirra', 'kunato_mozuku', '10000lovers', 'peco_(breath_of_fire)']\n"
     ]
    }
   ],
   "source": [
    "print(list(all_tags)[:10])"
   ]
  },
  {
   "cell_type": "code",
   "execution_count": null,
   "metadata": {},
   "outputs": [],
   "source": []
  }
 ],
 "metadata": {
  "interpreter": {
   "hash": "701e44c818d77ffee1ea406f87c8cb97d15d1e9ea3cd0750ecb27ee5817f5ed1"
  },
  "kernelspec": {
   "display_name": "Python 3.7.6 64-bit ('ir_demo': conda)",
   "name": "python3"
  },
  "language_info": {
   "codemirror_mode": {
    "name": "ipython",
    "version": 3
   },
   "file_extension": ".py",
   "mimetype": "text/x-python",
   "name": "python",
   "nbconvert_exporter": "python",
   "pygments_lexer": "ipython3",
   "version": "3.7.6"
  },
  "orig_nbformat": 4
 },
 "nbformat": 4,
 "nbformat_minor": 2
}
